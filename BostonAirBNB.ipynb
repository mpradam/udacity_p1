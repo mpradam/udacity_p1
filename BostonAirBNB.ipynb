{
 "metadata": {
  "language_info": {
   "codemirror_mode": {
    "name": "ipython",
    "version": 3
   },
   "file_extension": ".py",
   "mimetype": "text/x-python",
   "name": "python",
   "nbconvert_exporter": "python",
   "pygments_lexer": "ipython3",
   "version": "3.8.5-final"
  },
  "orig_nbformat": 2,
  "kernelspec": {
   "name": "python3",
   "display_name": "Python 3.8.5 64-bit (conda)",
   "metadata": {
    "interpreter": {
     "hash": "b3ba2566441a7c06988d0923437866b63cedc61552a5af99d1f4fb67d367b25f"
    }
   }
  }
 },
 "nbformat": 4,
 "nbformat_minor": 2,
 "cells": [
  {
   "source": [
    "# 1. Business Understanding\n",
    "\n",
    "Listing any type of property in AirBnb has become an important source of income for many owners, and also is an affordable acommodation option for travelers in a budget (although you can also find [castles](https://www.airbnb.com.co/rooms/9859896?_set_bev_on_new_domain=1614045046_YWZlODRlMTIwNzZi&source_impression_id=p3_1614045065_a6TPR4xPl0MoDwRs&guests=1&adults=1) and [islands](https://www.airbnb.com.co/rooms/1296802?_set_bev_on_new_domain=1614045046_YWZlODRlMTIwNzZi&source_impression_id=p3_1614045210_eUMTMwo0wunP4gz1))\n",
    "\n",
    "\n",
    "## Boston?\n",
    "\n",
    "The real reason behind the selection of Boston as an Airbnb study case is purely based in the Udacity Nanodregree recomendation, but there are some interesting fats surrounding the listings in this city.\n",
    "\n",
    "- A 2016 study suggested that a 10% increase in Airbnb listings led to a 0.42% increase in rent prices being asked in that area. [fact 1](https://ipropertymanagement.com/research/airbnb-statistics)\n",
    "- Boston is the 12th highest occupancy rate city in the U.S. [fact 2](https://www.stratosjets.com/blog/airbnb-statistics/)\n",
    "- \"...The new rules require that hosts own the properties they rent out, and live in them for at least nine months of the year.\" [fact 3](https://www.cnbc.com/2019/12/03/in-boston-airbnb-tasked-with-removing-thousands-of-illegal-listings.html)\n",
    "\n",
    "\n",
    "## What data do we have?\n",
    "\n",
    "The dataset has three archives to work with: \n",
    "\n",
    "- ***Listings***, including full descriptions and average review score\n",
    "- ***Reviews***, including unique id for each reviewer and detailed comments\n",
    "- ***Calendar***, including listing id and the price and availability for that day\n",
    "\n",
    "## What question do we want to answer?\n",
    "\n",
    "1. Is there is a strong correlation between the size of the listing and its price?\n",
    "2. Is Location the most important variable for demand and pricing?\n",
    "3. Past reviews impact future listings of the place?"
   ],
   "cell_type": "markdown",
   "metadata": {}
  },
  {
   "source": [
    "# 2. Data Understanding"
   ],
   "cell_type": "markdown",
   "metadata": {}
  },
  {
   "source": [
    "###  Environment setup"
   ],
   "cell_type": "markdown",
   "metadata": {}
  },
  {
   "cell_type": "code",
   "execution_count": 1,
   "metadata": {},
   "outputs": [],
   "source": [
    "import numpy as np\n",
    "import pandas as pd\n",
    "import matplotlib.pyplot as plt\n",
    "from sklearn.linear_model import LinearRegression\n",
    "from sklearn.model_selection import train_test_split\n",
    "from sklearn.metrics import r2_score, mean_squared_error\n",
    "import seaborn as sns\n",
    "\n",
    "cal = pd.read_csv('./calendar.csv')\n",
    "lis = pd.read_csv('./listings.csv')\n",
    "rev = pd.read_csv('./reviews.csv')\n"
   ]
  },
  {
   "cell_type": "code",
   "execution_count": 2,
   "metadata": {},
   "outputs": [
    {
     "output_type": "execute_result",
     "data": {
      "text/plain": [
       "   listing_id        date available price\n",
       "0    12147973  2017-09-05         f   NaN\n",
       "1    12147973  2017-09-04         f   NaN\n",
       "2    12147973  2017-09-03         f   NaN\n",
       "3    12147973  2017-09-02         f   NaN\n",
       "4    12147973  2017-09-01         f   NaN"
      ],
      "text/html": "<div>\n<style scoped>\n    .dataframe tbody tr th:only-of-type {\n        vertical-align: middle;\n    }\n\n    .dataframe tbody tr th {\n        vertical-align: top;\n    }\n\n    .dataframe thead th {\n        text-align: right;\n    }\n</style>\n<table border=\"1\" class=\"dataframe\">\n  <thead>\n    <tr style=\"text-align: right;\">\n      <th></th>\n      <th>listing_id</th>\n      <th>date</th>\n      <th>available</th>\n      <th>price</th>\n    </tr>\n  </thead>\n  <tbody>\n    <tr>\n      <th>0</th>\n      <td>12147973</td>\n      <td>2017-09-05</td>\n      <td>f</td>\n      <td>NaN</td>\n    </tr>\n    <tr>\n      <th>1</th>\n      <td>12147973</td>\n      <td>2017-09-04</td>\n      <td>f</td>\n      <td>NaN</td>\n    </tr>\n    <tr>\n      <th>2</th>\n      <td>12147973</td>\n      <td>2017-09-03</td>\n      <td>f</td>\n      <td>NaN</td>\n    </tr>\n    <tr>\n      <th>3</th>\n      <td>12147973</td>\n      <td>2017-09-02</td>\n      <td>f</td>\n      <td>NaN</td>\n    </tr>\n    <tr>\n      <th>4</th>\n      <td>12147973</td>\n      <td>2017-09-01</td>\n      <td>f</td>\n      <td>NaN</td>\n    </tr>\n  </tbody>\n</table>\n</div>"
     },
     "metadata": {},
     "execution_count": 2
    }
   ],
   "source": [
    "cal.head()"
   ]
  },
  {
   "source": [
    "# 3. Data Preparation"
   ],
   "cell_type": "markdown",
   "metadata": {}
  },
  {
   "source": [
    "# 4. Modeling"
   ],
   "cell_type": "markdown",
   "metadata": {}
  },
  {
   "source": [
    "# 5. Results, Evaluation and Insights"
   ],
   "cell_type": "markdown",
   "metadata": {}
  }
 ]
}